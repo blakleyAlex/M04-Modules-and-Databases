{
 "cells": [
  {
   "cell_type": "code",
   "execution_count": 6,
   "id": "f01f48c4",
   "metadata": {},
   "outputs": [],
   "source": [
    "#11.1\n",
    "\n",
    "my_func = '''\n",
    "\n",
    "def hours():\n",
    "    print(\"Open 9-5 daily\")\n",
    "'''\n",
    "\n",
    "with open('zoo.py', 'w') as my_file:\n",
    "    my_file.write(my_func)\n",
    "\n",
    "    \n",
    "\n",
    "\n",
    "\n",
    "\n",
    "\n",
    "    \n"
   ]
  },
  {
   "cell_type": "code",
   "execution_count": 7,
   "id": "1c30ee20",
   "metadata": {},
   "outputs": [
    {
     "name": "stdout",
     "output_type": "stream",
     "text": [
      "Open 9-5 daily\n"
     ]
    }
   ],
   "source": [
    "import zoo\n",
    "\n",
    "zoo.hours()"
   ]
  },
  {
   "cell_type": "code",
   "execution_count": 11,
   "id": "77c3b034",
   "metadata": {},
   "outputs": [
    {
     "name": "stdout",
     "output_type": "stream",
     "text": [
      "Open 9-5 daily\n"
     ]
    }
   ],
   "source": [
    "#11.2\n",
    "\n",
    "import zoo as menagerie\n",
    "\n",
    "menagerie.hours()"
   ]
  },
  {
   "cell_type": "code",
   "execution_count": 17,
   "id": "f793fa12",
   "metadata": {},
   "outputs": [
    {
     "name": "stdout",
     "output_type": "stream",
     "text": [
      "2023-11-20 15:34:13,908 INFO sqlalchemy.engine.Engine SELECT name FROM sqlite_master WHERE type='table' ORDER BY name\n",
      "2023-11-20 15:34:13,908 INFO sqlalchemy.engine.Engine [raw sql] ()\n",
      "2023-11-20 15:34:13,910 INFO sqlalchemy.engine.Engine PRAGMA main.table_xinfo(\"books\")\n",
      "2023-11-20 15:34:13,911 INFO sqlalchemy.engine.Engine [raw sql] ()\n",
      "2023-11-20 15:34:13,912 INFO sqlalchemy.engine.Engine SELECT sql FROM  (SELECT * FROM sqlite_master UNION ALL   SELECT * FROM sqlite_temp_master) WHERE name = ? AND type = 'table'\n",
      "2023-11-20 15:34:13,913 INFO sqlalchemy.engine.Engine [raw sql] ('books',)\n",
      "2023-11-20 15:34:13,915 INFO sqlalchemy.engine.Engine PRAGMA main.foreign_key_list(\"books\")\n",
      "2023-11-20 15:34:13,916 INFO sqlalchemy.engine.Engine [raw sql] ()\n",
      "2023-11-20 15:34:13,916 INFO sqlalchemy.engine.Engine PRAGMA temp.foreign_key_list(\"books\")\n",
      "2023-11-20 15:34:13,917 INFO sqlalchemy.engine.Engine [raw sql] ()\n",
      "2023-11-20 15:34:13,918 INFO sqlalchemy.engine.Engine SELECT sql FROM  (SELECT * FROM sqlite_master UNION ALL   SELECT * FROM sqlite_temp_master) WHERE name = ? AND type = 'table'\n",
      "2023-11-20 15:34:13,918 INFO sqlalchemy.engine.Engine [raw sql] ('books',)\n",
      "2023-11-20 15:34:13,920 INFO sqlalchemy.engine.Engine PRAGMA main.index_list(\"books\")\n",
      "2023-11-20 15:34:13,921 INFO sqlalchemy.engine.Engine [raw sql] ()\n",
      "2023-11-20 15:34:13,922 INFO sqlalchemy.engine.Engine PRAGMA temp.index_list(\"books\")\n",
      "2023-11-20 15:34:13,922 INFO sqlalchemy.engine.Engine [raw sql] ()\n",
      "2023-11-20 15:34:13,923 INFO sqlalchemy.engine.Engine PRAGMA main.index_list(\"books\")\n",
      "2023-11-20 15:34:13,923 INFO sqlalchemy.engine.Engine [raw sql] ()\n",
      "2023-11-20 15:34:13,924 INFO sqlalchemy.engine.Engine PRAGMA temp.index_list(\"books\")\n",
      "2023-11-20 15:34:13,924 INFO sqlalchemy.engine.Engine [raw sql] ()\n",
      "2023-11-20 15:34:13,926 INFO sqlalchemy.engine.Engine SELECT sql FROM  (SELECT * FROM sqlite_master UNION ALL   SELECT * FROM sqlite_temp_master) WHERE name = ? AND type = 'table'\n",
      "2023-11-20 15:34:13,926 INFO sqlalchemy.engine.Engine [raw sql] ('books',)\n",
      "2023-11-20 15:34:13,931 INFO sqlalchemy.engine.Engine SELECT books.title \n",
      "FROM books ORDER BY books.title\n",
      "2023-11-20 15:34:13,931 INFO sqlalchemy.engine.Engine [generated in 0.00064s] ()\n"
     ]
    }
   ],
   "source": [
    "#16.8\n",
    "\n",
    "#requires 16.4\n",
    "\n",
    "import sqlite3\n",
    "\n",
    "connection = sqlite3.connect('books.db')\n",
    "cursor = connection.cursor()\n",
    "\n",
    "create_table_query = '''\n",
    "CREATE TABLE IF NOT EXISTS books (\n",
    "    title TEXT,\n",
    "    author TEXT,\n",
    "    year INTEGER\n",
    ")\n",
    "'''\n",
    "cursor.execute(create_table_query)\n",
    "\n",
    "connection.commit()\n",
    "connection.close()\n",
    "\n",
    "#begin 16.8\n",
    "from sqlalchemy import create_engine, MetaData, Table, select\n",
    "\n",
    "engine = create_engine('sqlite:///books.db', echo=True)\n",
    "\n",
    "metadata = MetaData()\n",
    "\n",
    "metadata.reflect(bind=engine)\n",
    "\n",
    "books_table = metadata.tables['books']\n",
    "\n",
    "select_statement = select([books_table.c.title]).order_by(books_table.c.title)\n",
    "\n",
    "with engine.connect() as connection:\n",
    "    result = connection.execute(select_statement)\n",
    "    \n",
    "    titles = result.fetchall()\n",
    "    for title in titles:\n",
    "        print(title[0])\n",
    "\n",
    "\n"
   ]
  },
  {
   "cell_type": "code",
   "execution_count": null,
   "id": "4d890585",
   "metadata": {},
   "outputs": [],
   "source": []
  }
 ],
 "metadata": {
  "kernelspec": {
   "display_name": "Python 3 (ipykernel)",
   "language": "python",
   "name": "python3"
  },
  "language_info": {
   "codemirror_mode": {
    "name": "ipython",
    "version": 3
   },
   "file_extension": ".py",
   "mimetype": "text/x-python",
   "name": "python",
   "nbconvert_exporter": "python",
   "pygments_lexer": "ipython3",
   "version": "3.11.5"
  }
 },
 "nbformat": 4,
 "nbformat_minor": 5
}
